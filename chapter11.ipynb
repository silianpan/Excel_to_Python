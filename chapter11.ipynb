{
 "cells": [
  {
   "cell_type": "markdown",
   "metadata": {},
   "source": [
    "# 11 数据分析案例"
   ]
  },
  {
   "cell_type": "code",
   "execution_count": 3,
   "metadata": {},
   "outputs": [],
   "source": [
    "import pandas as pd\n",
    "import numpy as np\n",
    "from datetime import datetime\n",
    "# 一个cell输出多行语句\n",
    "from IPython.core.interactiveshell import InteractiveShell\n",
    "InteractiveShell.ast_node_interactivity = \"all\""
   ]
  },
  {
   "cell_type": "markdown",
   "metadata": {},
   "source": [
    "## 一、利用Python实现报表自动化\n",
    "数据分析师 vs \"表哥\"\n",
    "\n",
    "### 1.1 为什么要进行报表自动化\n",
    "* 提高工作效率\n",
    "* 减少错误\n",
    "\n",
    "### 1.2 什么样的报表适合自动化\n",
    "* 使用频率较高，如：日报、周报、月报\n",
    "* 开发时间长短\n",
    "* 需求变更频率高\n",
    "* 流程标准\n",
    "\n",
    "### 1.3 案例说明\n",
    "假如你现在每天需要做一个表，这个表包括销售额、客流量、客单价这个三个指标的本月累计、上月同期、去年同期、环比、同比这几个指标\n",
    "\n",
    "<img src='./image/case1_1.jpg' width='60%' />\n",
    "\n",
    "做报表的源数据存放在一张订单表里面，包含了从去年至今的所有订单数据\n",
    "\n",
    "<img src='./image/case1_2.jpg' width='60%' />\n",
    "\n",
    "指标说明：\n",
    "* 销售额 = 单价*销量\n",
    "* 客流量 = 订单ID去重计数\n",
    "* 客单价 = 销售额/客流量\n",
    "* 本月 = 2018年2月\n",
    "* 上月 = 2018年1月\n",
    "* 去年同期 = 2017年2月"
   ]
  },
  {
   "cell_type": "code",
   "execution_count": 14,
   "metadata": {},
   "outputs": [
    {
     "data": {
      "text/html": [
       "<div>\n",
       "<style scoped>\n",
       "    .dataframe tbody tr th:only-of-type {\n",
       "        vertical-align: middle;\n",
       "    }\n",
       "\n",
       "    .dataframe tbody tr th {\n",
       "        vertical-align: top;\n",
       "    }\n",
       "\n",
       "    .dataframe thead th {\n",
       "        text-align: right;\n",
       "    }\n",
       "</style>\n",
       "<table border=\"1\" class=\"dataframe\">\n",
       "  <thead>\n",
       "    <tr style=\"text-align: right;\">\n",
       "      <th></th>\n",
       "      <th>商品ID</th>\n",
       "      <th>类别ID</th>\n",
       "      <th>门店编号</th>\n",
       "      <th>单价</th>\n",
       "      <th>销量</th>\n",
       "      <th>成交时间</th>\n",
       "      <th>订单ID</th>\n",
       "    </tr>\n",
       "  </thead>\n",
       "  <tbody>\n",
       "    <tr>\n",
       "      <td>0</td>\n",
       "      <td>30006206.0</td>\n",
       "      <td>915000003.0</td>\n",
       "      <td>CDNL</td>\n",
       "      <td>25.23</td>\n",
       "      <td>0.328</td>\n",
       "      <td>2018-01-01</td>\n",
       "      <td>20170103CDLG000210052759</td>\n",
       "    </tr>\n",
       "    <tr>\n",
       "      <td>1</td>\n",
       "      <td>30163281.0</td>\n",
       "      <td>914010000.0</td>\n",
       "      <td>CDNL</td>\n",
       "      <td>2.00</td>\n",
       "      <td>2.000</td>\n",
       "      <td>2018-01-02</td>\n",
       "      <td>20170103CDLG000210052759</td>\n",
       "    </tr>\n",
       "    <tr>\n",
       "      <td>2</td>\n",
       "      <td>30200518.0</td>\n",
       "      <td>922000000.0</td>\n",
       "      <td>CDNL</td>\n",
       "      <td>19.62</td>\n",
       "      <td>0.230</td>\n",
       "      <td>2018-01-03</td>\n",
       "      <td>20170103CDLG000210052759</td>\n",
       "    </tr>\n",
       "    <tr>\n",
       "      <td>3</td>\n",
       "      <td>29989105.0</td>\n",
       "      <td>922000000.0</td>\n",
       "      <td>CDNL</td>\n",
       "      <td>2.80</td>\n",
       "      <td>2.044</td>\n",
       "      <td>2018-01-04</td>\n",
       "      <td>20170103CDLG000210052759</td>\n",
       "    </tr>\n",
       "    <tr>\n",
       "      <td>4</td>\n",
       "      <td>30179558.0</td>\n",
       "      <td>915000100.0</td>\n",
       "      <td>CDNL</td>\n",
       "      <td>47.41</td>\n",
       "      <td>0.226</td>\n",
       "      <td>2018-01-05</td>\n",
       "      <td>20170103CDLG000210052759</td>\n",
       "    </tr>\n",
       "  </tbody>\n",
       "</table>\n",
       "</div>"
      ],
      "text/plain": [
       "         商品ID         类别ID  门店编号     单价     销量       成交时间  \\\n",
       "0  30006206.0  915000003.0  CDNL  25.23  0.328 2018-01-01   \n",
       "1  30163281.0  914010000.0  CDNL   2.00  2.000 2018-01-02   \n",
       "2  30200518.0  922000000.0  CDNL  19.62  0.230 2018-01-03   \n",
       "3  29989105.0  922000000.0  CDNL   2.80  2.044 2018-01-04   \n",
       "4  30179558.0  915000100.0  CDNL  47.41  0.226 2018-01-05   \n",
       "\n",
       "                       订单ID  \n",
       "0  20170103CDLG000210052759  \n",
       "1  20170103CDLG000210052759  \n",
       "2  20170103CDLG000210052759  \n",
       "3  20170103CDLG000210052759  \n",
       "4  20170103CDLG000210052759  "
      ]
     },
     "execution_count": 14,
     "metadata": {},
     "output_type": "execute_result"
    },
    {
     "name": "stdout",
     "output_type": "stream",
     "text": [
      "<class 'pandas.core.frame.DataFrame'>\n",
      "RangeIndex: 3744 entries, 0 to 3743\n",
      "Data columns (total 7 columns):\n",
      "商品ID    3478 non-null float64\n",
      "类别ID    3478 non-null float64\n",
      "门店编号    3478 non-null object\n",
      "单价      3478 non-null float64\n",
      "销量      3478 non-null float64\n",
      "成交时间    3478 non-null datetime64[ns]\n",
      "订单ID    3478 non-null object\n",
      "dtypes: datetime64[ns](1), float64(4), object(2)\n",
      "memory usage: 204.9+ KB\n"
     ]
    }
   ],
   "source": [
    "# parse_dates：将数据解析为时间格式\n",
    "data = pd.read_csv('./data/order-14.1.csv', parse_dates=['成交时间'], encoding='gbk')\n",
    "data.head()\n",
    "data.info()"
   ]
  },
  {
   "cell_type": "code",
   "execution_count": 15,
   "metadata": {},
   "outputs": [
    {
     "data": {
      "text/plain": [
       "10412.78007"
      ]
     },
     "execution_count": 15,
     "metadata": {},
     "output_type": "execute_result"
    },
    {
     "data": {
      "text/plain": [
       "343"
      ]
     },
     "execution_count": 15,
     "metadata": {},
     "output_type": "execute_result"
    },
    {
     "data": {
      "text/plain": [
       "30.357959387755105"
      ]
     },
     "execution_count": 15,
     "metadata": {},
     "output_type": "execute_result"
    }
   ],
   "source": [
    "# 计算本月相关指标\n",
    "# 本月数据\n",
    "month_this = data[(data['成交时间'] >= datetime(2018, 2, 1)) & (data['成交时间'] <= datetime(2018, 2, 28))]\n",
    "# 本月销售额\n",
    "sales_this = (month_this['销量']*month_this['单价']).sum()\n",
    "# 客流量\n",
    "traffic_this = month_this['订单ID'].drop_duplicates().count()\n",
    "# 客单价计算\n",
    "s_t_this = sales_this/traffic_this\n",
    "sales_this\n",
    "traffic_this\n",
    "s_t_this"
   ]
  },
  {
   "cell_type": "code",
   "execution_count": 16,
   "metadata": {},
   "outputs": [
    {
     "data": {
      "text/plain": [
       "9940.97291"
      ]
     },
     "execution_count": 16,
     "metadata": {},
     "output_type": "execute_result"
    },
    {
     "data": {
      "text/plain": [
       "315"
      ]
     },
     "execution_count": 16,
     "metadata": {},
     "output_type": "execute_result"
    },
    {
     "data": {
      "text/plain": [
       "31.55864415873016"
      ]
     },
     "execution_count": 16,
     "metadata": {},
     "output_type": "execute_result"
    }
   ],
   "source": [
    "# 计算上月相关指标\n",
    "month_pre = data[(data['成交时间'] >= datetime(2018, 1, 1)) & (data['成交时间'] <= datetime(2018, 1, 31))]\n",
    "sales_pre = (month_pre['销量']*month_pre['单价']).sum()\n",
    "# 客流量\n",
    "traffic_pre = month_pre['订单ID'].drop_duplicates().count()\n",
    "# 客单价计算\n",
    "s_t_pre = sales_pre/traffic_pre\n",
    "sales_pre\n",
    "traffic_pre\n",
    "s_t_pre"
   ]
  },
  {
   "cell_type": "code",
   "execution_count": 20,
   "metadata": {},
   "outputs": [
    {
     "data": {
      "text/html": [
       "<div>\n",
       "<style scoped>\n",
       "    .dataframe tbody tr th:only-of-type {\n",
       "        vertical-align: middle;\n",
       "    }\n",
       "\n",
       "    .dataframe tbody tr th {\n",
       "        vertical-align: top;\n",
       "    }\n",
       "\n",
       "    .dataframe thead th {\n",
       "        text-align: right;\n",
       "    }\n",
       "</style>\n",
       "<table border=\"1\" class=\"dataframe\">\n",
       "  <thead>\n",
       "    <tr style=\"text-align: right;\">\n",
       "      <th></th>\n",
       "      <th>本月累计</th>\n",
       "      <th>上月同期</th>\n",
       "      <th>去年同期</th>\n",
       "    </tr>\n",
       "  </thead>\n",
       "  <tbody>\n",
       "    <tr>\n",
       "      <td>销售额</td>\n",
       "      <td>10412.780070</td>\n",
       "      <td>9940.972910</td>\n",
       "      <td>8596.313470</td>\n",
       "    </tr>\n",
       "    <tr>\n",
       "      <td>客流量</td>\n",
       "      <td>315.000000</td>\n",
       "      <td>315.000000</td>\n",
       "      <td>262.000000</td>\n",
       "    </tr>\n",
       "    <tr>\n",
       "      <td>客单价</td>\n",
       "      <td>31.558644</td>\n",
       "      <td>31.558644</td>\n",
       "      <td>32.810357</td>\n",
       "    </tr>\n",
       "  </tbody>\n",
       "</table>\n",
       "</div>"
      ],
      "text/plain": [
       "             本月累计         上月同期         去年同期\n",
       "销售额  10412.780070  9940.972910  8596.313470\n",
       "客流量    315.000000   315.000000   262.000000\n",
       "客单价     31.558644    31.558644    32.810357"
      ]
     },
     "execution_count": 20,
     "metadata": {},
     "output_type": "execute_result"
    }
   ],
   "source": [
    "def get_month_data(data):\n",
    "    # 本月销售额\n",
    "    sales = (data['销量']*data['单价']).sum()\n",
    "    # 客流量\n",
    "    traffic = data['订单ID'].drop_duplicates().count()\n",
    "    # 客单价计算\n",
    "    s_t = sales/traffic\n",
    "    return (sales, traffic, s_t)\n",
    "\n",
    "month_last_year = data[(data['成交时间'] >= datetime(2017, 2, 1)) & (data['成交时间'] <= datetime(2017, 2, 28))]\n",
    "sales_this, traffic_this, s_t_this = get_month_data(month_this)\n",
    "sales_pre, traffic_pre, s_t_pre = get_month_data(month_pre)\n",
    "sales_last_year, traffic_last_year, s_t_last_year = get_month_data(month_last_year)\n",
    "\n",
    "report = pd.DataFrame([[sales_this, sales_pre, sales_last_year], \n",
    "                       [traffic_pre, traffic_pre, traffic_last_year], \n",
    "                       [s_t_pre, s_t_pre, s_t_last_year]],\n",
    "                     columns=['本月累计', '上月同期', '去年同期'],\n",
    "                     index=['销售额', '客流量', '客单价'])\n",
    "report"
   ]
  },
  {
   "cell_type": "code",
   "execution_count": 21,
   "metadata": {},
   "outputs": [
    {
     "data": {
      "text/html": [
       "<div>\n",
       "<style scoped>\n",
       "    .dataframe tbody tr th:only-of-type {\n",
       "        vertical-align: middle;\n",
       "    }\n",
       "\n",
       "    .dataframe tbody tr th {\n",
       "        vertical-align: top;\n",
       "    }\n",
       "\n",
       "    .dataframe thead th {\n",
       "        text-align: right;\n",
       "    }\n",
       "</style>\n",
       "<table border=\"1\" class=\"dataframe\">\n",
       "  <thead>\n",
       "    <tr style=\"text-align: right;\">\n",
       "      <th></th>\n",
       "      <th>本月累计</th>\n",
       "      <th>上月同期</th>\n",
       "      <th>去年同期</th>\n",
       "      <th>环比</th>\n",
       "      <th>同比</th>\n",
       "    </tr>\n",
       "  </thead>\n",
       "  <tbody>\n",
       "    <tr>\n",
       "      <td>销售额</td>\n",
       "      <td>10412.780070</td>\n",
       "      <td>9940.972910</td>\n",
       "      <td>8596.313470</td>\n",
       "      <td>0.047461</td>\n",
       "      <td>0.211308</td>\n",
       "    </tr>\n",
       "    <tr>\n",
       "      <td>客流量</td>\n",
       "      <td>315.000000</td>\n",
       "      <td>315.000000</td>\n",
       "      <td>262.000000</td>\n",
       "      <td>0.000000</td>\n",
       "      <td>0.202290</td>\n",
       "    </tr>\n",
       "    <tr>\n",
       "      <td>客单价</td>\n",
       "      <td>31.558644</td>\n",
       "      <td>31.558644</td>\n",
       "      <td>32.810357</td>\n",
       "      <td>0.000000</td>\n",
       "      <td>-0.038150</td>\n",
       "    </tr>\n",
       "  </tbody>\n",
       "</table>\n",
       "</div>"
      ],
      "text/plain": [
       "             本月累计         上月同期         去年同期        环比        同比\n",
       "销售额  10412.780070  9940.972910  8596.313470  0.047461  0.211308\n",
       "客流量    315.000000   315.000000   262.000000  0.000000  0.202290\n",
       "客单价     31.558644    31.558644    32.810357  0.000000 -0.038150"
      ]
     },
     "execution_count": 21,
     "metadata": {},
     "output_type": "execute_result"
    }
   ],
   "source": [
    "# 添加同比与环比\n",
    "report['环比'] = report['本月累计'] / report['上月同期'] - 1\n",
    "report['同比'] = report['本月累计'] / report['去年同期'] - 1\n",
    "report"
   ]
  },
  {
   "cell_type": "code",
   "execution_count": 22,
   "metadata": {},
   "outputs": [],
   "source": [
    "# 导出结果\n",
    "report.to_excel('./data/order-report.xlsx', encoding='utf-8')"
   ]
  },
  {
   "cell_type": "markdown",
   "metadata": {},
   "source": [
    "## 二、自动发送邮件\n",
    "报表做出来后要发送给老板看，每天自动发送邮件"
   ]
  },
  {
   "cell_type": "code",
   "execution_count": 25,
   "metadata": {},
   "outputs": [
    {
     "name": "stderr",
     "output_type": "stream",
     "text": [
      "send: 'ehlo pandeMacBook-Pro.local\\r\\n'\n",
      "reply: b'250-mail\\r\\n'\n",
      "reply: b'250-PIPELINING\\r\\n'\n",
      "reply: b'250-AUTH LOGIN PLAIN\\r\\n'\n",
      "reply: b'250-AUTH=LOGIN PLAIN\\r\\n'\n",
      "reply: b'250-coremail 1Uxr2xKj7kG0xkI17xGrU7I0s8FY2U3Uj8Cz28x1UUUUU7Ic2I0Y2UrZjTVkUCa0xDrUUUUj\\r\\n'\n",
      "reply: b'250-STARTTLS\\r\\n'\n",
      "reply: b'250 8BITMIME\\r\\n'\n",
      "reply: retcode (250); Msg: b'mail\\nPIPELINING\\nAUTH LOGIN PLAIN\\nAUTH=LOGIN PLAIN\\ncoremail 1Uxr2xKj7kG0xkI17xGrU7I0s8FY2U3Uj8Cz28x1UUUUU7Ic2I0Y2UrZjTVkUCa0xDrUUUUj\\nSTARTTLS\\n8BITMIME'\n",
      "send: 'AUTH PLAIN AGxpdXBhbjY4ODhAMTYzLmNvbQBzaWxpYW4xODc4\\r\\n'\n",
      "reply: b'235 Authentication successful\\r\\n'\n",
      "reply: retcode (235); Msg: b'Authentication successful'\n"
     ]
    },
    {
     "data": {
      "text/plain": [
       "(235, b'Authentication successful')"
      ]
     },
     "execution_count": 25,
     "metadata": {},
     "output_type": "execute_result"
    },
    {
     "name": "stderr",
     "output_type": "stream",
     "text": [
      "send: 'mail FROM:<liupan6888@163.com>\\r\\n'\n",
      "reply: b'250 Mail OK\\r\\n'\n",
      "reply: retcode (250); Msg: b'Mail OK'\n",
      "send: 'rcpt TO:<liupan6888@163.com>\\r\\n'\n",
      "reply: b'250 Mail OK\\r\\n'\n",
      "reply: retcode (250); Msg: b'Mail OK'\n",
      "send: 'rcpt TO:<liupan6888@163.com>\\r\\n'\n",
      "reply: b'250 Mail OK\\r\\n'\n",
      "reply: retcode (250); Msg: b'Mail OK'\n",
      "send: 'data\\r\\n'\n",
      "reply: b'354 End data with <CR><LF>.<CR><LF>\\r\\n'\n",
      "reply: retcode (354); Msg: b'End data with <CR><LF>.<CR><LF>'\n",
      "data: (354, b'End data with <CR><LF>.<CR><LF>')\n",
      "send: b'Content-Type: multipart/mixed; boundary=\"===============0674540787439486341==\"\\r\\nMIME-Version: 1.0\\r\\nSubject: =?utf-8?b?6L+Z5piv5LiA5Lu95rWL6K+V6YKu5Lu2?=\\r\\nto: liupan6888@163.com\\r\\nCc: liupan6888@163.com\\r\\nfrom: =?utf-8?b?5byg5LiJ?=\\r\\n\\r\\n--===============0674540787439486341==\\r\\nContent-Type: text/plain; charset=\"utf-8\"\\r\\nMIME-Version: 1.0\\r\\nContent-Transfer-Encoding: base64\\r\\n\\r\\n5oKo5aW977yM6L+Z5piv5LiA5Lu95rWL6K+V6YKu5Lu2\\r\\n\\r\\n--===============0674540787439486341==\\r\\nContent-Type: application/octet-stream\\r\\nMIME-Version: 1.0\\r\\nContent-Transfer-Encoding: base64\\r\\nContent-Disposition: attachment; filename*=utf-8\\'\\'%E8%AE%A2%E5%8D%95%E9%94%80%E5%94%AE%E5%88%86%E6%9E%90%E6%8A%A5%E5%91%8A.xlsx\\r\\n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\\r\\nb2NQcm9wcy9hcHAueG1sUEsFBgAAAAAKAAoAgAIAAJoTAAAAAA==\\r\\n\\r\\n--===============0674540787439486341==--\\r\\n.\\r\\n'\n",
      "reply: b'250 Mail OK queued as smtp11,D8CowAD3NGZMDWZeoqjAAw--.45147S2 1583746382\\r\\n'\n",
      "reply: retcode (250); Msg: b'Mail OK queued as smtp11,D8CowAD3NGZMDWZeoqjAAw--.45147S2 1583746382'\n",
      "data: (250, b'Mail OK queued as smtp11,D8CowAD3NGZMDWZeoqjAAw--.45147S2 1583746382')\n"
     ]
    },
    {
     "data": {
      "text/plain": [
       "{}"
      ]
     },
     "execution_count": 25,
     "metadata": {},
     "output_type": "execute_result"
    },
    {
     "name": "stderr",
     "output_type": "stream",
     "text": [
      "send: 'quit\\r\\n'\n",
      "reply: b'221 Bye\\r\\n'\n",
      "reply: retcode (221); Msg: b'Bye'\n"
     ]
    },
    {
     "data": {
      "text/plain": [
       "(221, b'Bye')"
      ]
     },
     "execution_count": 25,
     "metadata": {},
     "output_type": "execute_result"
    }
   ],
   "source": [
    "import smtplib\n",
    "from email import encoders\n",
    "from email.header import Header\n",
    "from email.mime.text import MIMEText\n",
    "from email.utils import parseaddr, formataddr\n",
    "from email.mime.application import MIMEApplication\n",
    "from email.mime.multipart import MIMEMultipart\n",
    "\n",
    "# 发件人邮箱\n",
    "asender = 'liupan6888@163.com'\n",
    "# 收件人邮箱\n",
    "areceiver = 'liupan6888@163.com'\n",
    "# 抄送人邮箱\n",
    "acc = 'liupan6888@163.com'\n",
    "# 邮件主题\n",
    "asubject = '这是一份测试邮件'\n",
    "\n",
    "# 发件人地址\n",
    "from_addr = 'liupan6888@163.com'\n",
    "# 密码\n",
    "password = 'silian1878'\n",
    "\n",
    "# 邮件设置\n",
    "msg = MIMEMultipart()\n",
    "msg['Subject'] = asubject\n",
    "msg['to'] = areceiver\n",
    "msg['Cc'] = acc\n",
    "msg['from'] = '张三'\n",
    "\n",
    "# 正文\n",
    "body = '您好，这是一份测试邮件'\n",
    "\n",
    "# 添加邮件正文\n",
    "msg.attach(MIMEText(body, 'plain', 'utf-8'))\n",
    "\n",
    "# 添加附件\n",
    "xlsxpart = MIMEApplication(open('./data/order-report.xlsx', 'rb').read())\n",
    "xlsxpart.add_header('Content-Disposition', 'attachment', filename='订单销售分析报告.xlsx')\n",
    "msg.attach(xlsxpart)\n",
    "\n",
    "# 设置邮箱服务器地址及端口\n",
    "smtp_server = 'smtp.163.com'\n",
    "server = smtplib.SMTP(smtp_server, 25)\n",
    "server.set_debuglevel(1)\n",
    "# 登录邮箱\n",
    "server.login(from_addr, password)\n",
    "# 发送邮件\n",
    "server.sendmail(from_addr, areceiver.split(',')+acc.split(','),\n",
    "               msg.as_string())\n",
    "\n",
    "server.quit()"
   ]
  },
  {
   "cell_type": "code",
   "execution_count": null,
   "metadata": {},
   "outputs": [],
   "source": []
  }
 ],
 "metadata": {
  "kernelspec": {
   "display_name": "Python 3",
   "language": "python",
   "name": "python3"
  },
  "language_info": {
   "codemirror_mode": {
    "name": "ipython",
    "version": 3
   },
   "file_extension": ".py",
   "mimetype": "text/x-python",
   "name": "python",
   "nbconvert_exporter": "python",
   "pygments_lexer": "ipython3",
   "version": "3.7.4"
  }
 },
 "nbformat": 4,
 "nbformat_minor": 2
}
