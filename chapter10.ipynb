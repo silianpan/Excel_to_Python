{
 "cells": [
  {
   "cell_type": "markdown",
   "metadata": {},
   "source": [
    "# 10 菜品摆放-数据可视化\n",
    "字不如表，表不如图，借助图形来清晰有效表达信息的方式叫可视化，可视化可以帮助我们更好地传递信息"
   ]
  },
  {
   "cell_type": "code",
   "execution_count": 1,
   "metadata": {},
   "outputs": [],
   "source": [
    "import pandas as pd\n",
    "import numpy as np\n",
    "# 一个cell输出多行语句\n",
    "from IPython.core.interactiveshell import InteractiveShell\n",
    "InteractiveShell.ast_node_interactivity = \"all\""
   ]
  },
  {
   "cell_type": "markdown",
   "metadata": {},
   "source": [
    "## 一、数据可视化的基本流程\n",
    "* **整理数据**<br>\n",
    "    明确把那些数据可视化\n",
    "* **明确目的**<br>\n",
    "    要明确表达什么，传递给看图人那些信息\n",
    "* **寻找合适的表现形式**<br>\n",
    "    选择折线图还是饼图等\n",
    "    \n",
    "## 二、图标的基本组成元素\n",
    "\n",
    "<img src='./image/chart.jpg' width='60%' />\n",
    "\n",
    "* **画布**<br>\n",
    "    首先需要找到一块“布”，即绘图界面，然后在该“布”上绘制图表。画布是图表最大的概念\n",
    "* **坐标系**<br>\n",
    "    画布是图表最大的概念，可以在画布上建立多个坐标系，分为直角坐标系，球坐标系和极坐标系。直角坐标系最为常见\n",
    "* **坐标轴**<br>\n",
    "    坐标轴是坐标系中的概念，主要有x轴，y轴（二维），一组x/y值唯一确定坐标系中的点<br>\n",
    "    x轴也称为横轴，即上图中的月份；y轴也称为纵轴，即上图中的注册人数\n",
    "* **坐标轴标题**<br>\n",
    "    x轴和y轴的坐标名称，即上图中的月份和注册人数\n",
    "* **图表标题**<br>\n",
    "    整个图标的核心标题\n",
    "* **数据标签**<br>\n",
    "    数据标签用于展示图表中的数值，即每个点对应展示的数值\n",
    "* **数据表**<br>\n",
    "    数据表在图下方，以表格形式展示出来\n",
    "* **网格线**<br>\n",
    "    网格线是坐标轴的延伸，可以清楚的看到每个点在大概什么位置，值是多少\n",
    "* **图例**<br>\n",
    "    不同符号或颜色代表不同的内容与指标\n",
    "* **误差线**<br>\n",
    "    误差线主要用来表示坐标轴上每个点的不确定程度，一般用标准差表示，即一个点的误差为该点的实际加减标准差"
   ]
  },
  {
   "cell_type": "code",
   "execution_count": null,
   "metadata": {},
   "outputs": [],
   "source": []
  }
 ],
 "metadata": {
  "kernelspec": {
   "display_name": "Python 3",
   "language": "python",
   "name": "python3"
  },
  "language_info": {
   "codemirror_mode": {
    "name": "ipython",
    "version": 3
   },
   "file_extension": ".py",
   "mimetype": "text/x-python",
   "name": "python",
   "nbconvert_exporter": "python",
   "pygments_lexer": "ipython3",
   "version": "3.7.4"
  }
 },
 "nbformat": 4,
 "nbformat_minor": 2
}
